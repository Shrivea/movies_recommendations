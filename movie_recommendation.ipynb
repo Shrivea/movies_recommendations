{
 "cells": [
  {
   "cell_type": "code",
   "execution_count": 1,
   "metadata": {},
   "outputs": [],
   "source": [
    "\n",
    "import pandas as pd\n",
    "import matplotlib as plt\n",
    "import numpy as np\n",
    "#Converts our user inputs if there are mistakes and finds the closests match in our data\n",
    "import difflib\n",
    "#COnverts the text we have into numerical vectors \n",
    "from sklearn.feature_extraction.text import TfidfVectorizer\n",
    "#Find similarity cosine score to find the recommendations\n",
    "from sklearn.metrics.pairwise import cosine_similarity\n"
   ]
  },
  {
   "cell_type": "markdown",
   "metadata": {},
   "source": [
    "Preprocesing of data"
   ]
  },
  {
   "cell_type": "code",
   "execution_count": 2,
   "metadata": {},
   "outputs": [],
   "source": [
    "#loading data\n",
    "movies = pd.read_csv(\"movies.csv\")\n",
    "#movies.head()\n",
    "#movies.shape"
   ]
  },
  {
   "cell_type": "code",
   "execution_count": 3,
   "metadata": {},
   "outputs": [],
   "source": [
    "#FInding the columns that are relevant \n",
    "#Genre, Keywords(convert from text), (original language)\n",
    "#cast, directors and taglines\n",
    "relevant_features = ['genres','keywords','tagline','cast','director']\n"
   ]
  },
  {
   "cell_type": "code",
   "execution_count": 4,
   "metadata": {},
   "outputs": [],
   "source": [
    "#replace null values in the columns, go through each column\n",
    "for f in relevant_features:\n",
    "    movies[f] = movies[f].fillna('')"
   ]
  },
  {
   "cell_type": "code",
   "execution_count": 5,
   "metadata": {},
   "outputs": [
    {
     "data": {
      "text/plain": [
       "0       Action Adventure Fantasy Science Fiction cultu...\n",
       "1       Adventure Fantasy Action ocean drug abuse exot...\n",
       "2       Action Adventure Crime spy based on novel secr...\n",
       "3       Action Crime Drama Thriller dc comics crime fi...\n",
       "4       Action Adventure Science Fiction based on nove...\n",
       "                              ...                        \n",
       "4798    Action Crime Thriller united states\\u2013mexic...\n",
       "4799    Comedy Romance  A newlywed couple's honeymoon ...\n",
       "4800    Comedy Drama Romance TV Movie date love at fir...\n",
       "4801      A New Yorker in Shanghai Daniel Henney Eliza...\n",
       "4802    Documentary obsession camcorder crush dream gi...\n",
       "Name: genres, Length: 4803, dtype: object"
      ]
     },
     "execution_count": 5,
     "metadata": {},
     "output_type": "execute_result"
    }
   ],
   "source": [
    "#combining all the five selected features\n",
    "comb_feat = ''\n",
    "for f in relevant_features:\n",
    "    comb_feat+=(movies[f]+' ')\n",
    "comb_feat"
   ]
  },
  {
   "cell_type": "code",
   "execution_count": 6,
   "metadata": {},
   "outputs": [
    {
     "data": {
      "text/plain": [
       "<4803x17318 sparse matrix of type '<class 'numpy.float64'>'\n",
       "\twith 124266 stored elements in Compressed Sparse Row format>"
      ]
     },
     "execution_count": 6,
     "metadata": {},
     "output_type": "execute_result"
    }
   ],
   "source": [
    "#convert this ext into numerical feature values\n",
    "vectorizer = TfidfVectorizer()\n",
    "features_vects = vectorizer.fit_transform(comb_feat)\n",
    "features_vects"
   ]
  },
  {
   "cell_type": "code",
   "execution_count": 7,
   "metadata": {},
   "outputs": [
    {
     "data": {
      "text/plain": [
       "array([[1.        , 0.07219487, 0.037733  , ..., 0.        , 0.        ,\n",
       "        0.        ],\n",
       "       [0.07219487, 1.        , 0.03281499, ..., 0.03575545, 0.        ,\n",
       "        0.        ],\n",
       "       [0.037733  , 0.03281499, 1.        , ..., 0.        , 0.05389661,\n",
       "        0.        ],\n",
       "       ...,\n",
       "       [0.        , 0.03575545, 0.        , ..., 1.        , 0.        ,\n",
       "        0.02651502],\n",
       "       [0.        , 0.        , 0.05389661, ..., 0.        , 1.        ,\n",
       "        0.        ],\n",
       "       [0.        , 0.        , 0.        , ..., 0.02651502, 0.        ,\n",
       "        1.        ]])"
      ]
     },
     "execution_count": 7,
     "metadata": {},
     "output_type": "execute_result"
    }
   ],
   "source": [
    "#gettings the similarity score usign cosine similarity function\n",
    "#how similar one movies is to all other movies in the dataset\n",
    "similarity = cosine_similarity(features_vects)\n",
    "similarity"
   ]
  },
  {
   "cell_type": "code",
   "execution_count": 8,
   "metadata": {},
   "outputs": [
    {
     "data": {
      "text/plain": [
       "(4803, 4803)"
      ]
     },
     "execution_count": 8,
     "metadata": {},
     "output_type": "execute_result"
    }
   ],
   "source": [
    "similarity.shape"
   ]
  },
  {
   "cell_type": "code",
   "execution_count": 9,
   "metadata": {},
   "outputs": [],
   "source": [
    "#getting input\n",
    "name = input(\"What is your favorite movie: \")\n"
   ]
  },
  {
   "cell_type": "code",
   "execution_count": 10,
   "metadata": {},
   "outputs": [],
   "source": [
    "#creating a list with all movies in the dataset\n",
    "list_titles = movies['title'].tolist()\n",
    "#list_titles"
   ]
  },
  {
   "cell_type": "code",
   "execution_count": 11,
   "metadata": {},
   "outputs": [
    {
     "data": {
      "text/plain": [
       "['Iron Man', 'Iron Man 3', 'Iron Man 2']"
      ]
     },
     "execution_count": 11,
     "metadata": {},
     "output_type": "execute_result"
    }
   ],
   "source": [
    "#Find close match\n",
    "find_close_match = difflib.get_close_matches(name, list_titles)\n",
    "find_close_match"
   ]
  },
  {
   "cell_type": "code",
   "execution_count": 12,
   "metadata": {},
   "outputs": [
    {
     "data": {
      "text/plain": [
       "'Iron Man'"
      ]
     },
     "execution_count": 12,
     "metadata": {},
     "output_type": "execute_result"
    }
   ],
   "source": [
    "#I want to the find teh closest match\n",
    "closest_match = find_close_match[0]\n",
    "closest_match"
   ]
  },
  {
   "cell_type": "code",
   "execution_count": 13,
   "metadata": {},
   "outputs": [
    {
     "data": {
      "text/plain": [
       "68"
      ]
     },
     "execution_count": 13,
     "metadata": {},
     "output_type": "execute_result"
    }
   ],
   "source": [
    "#find the index since we need to match the index with our feature dataset\n",
    "#.values converts series inot numpy array \n",
    "movie_index = movies[movies.title == closest_match]['index'].values[0]\n",
    "movie_index"
   ]
  },
  {
   "cell_type": "code",
   "execution_count": 14,
   "metadata": {},
   "outputs": [],
   "source": [
    "#We have teh indeex, we can go to the feature dataframe find teh corresponsind index and get the similaritry score\n",
    "#getting list of similar movies\n",
    "similarity_score = []\n",
    "c = 0\n",
    "for i in similarity[movie_index]:\n",
    "    similarity_score.append((c,i))\n",
    "    c+=1\n",
    "#similarity_score\n"
   ]
  },
  {
   "cell_type": "code",
   "execution_count": 15,
   "metadata": {},
   "outputs": [],
   "source": [
    "#soritng the movies based on their similarity score in reverse decending\n",
    "sorted_list =  sorted(similarity_score, key=lambda x: x[1], reverse=True)\n",
    "#sorted_list"
   ]
  },
  {
   "cell_type": "code",
   "execution_count": 16,
   "metadata": {},
   "outputs": [],
   "source": [
    "#print the name of similar movies vased on the index\n",
    "#use the index to find the title\n",
    "\n",
    "#WE have the sorted list with the index, all we need to do is loop through the similarity list sorted, get the index, match the index with the index in the movies datasdet\n",
    "names = []\n",
    "for m in sorted_list:\n",
    "    #make the index varaible we will use in the regular loop\n",
    "    index = m[0]\n",
    "    #Check if that rows index is equal to the one that you ahve, then get the title\n",
    "    name = movies[movies.index == index]['title'].values[0]\n",
    "    #print(name)\n",
    "    names.append(name)\n",
    "#names\n",
    "    "
   ]
  },
  {
   "cell_type": "code",
   "execution_count": 17,
   "metadata": {},
   "outputs": [
    {
     "name": "stdout",
     "output_type": "stream",
     "text": [
      "Iron Man\n",
      "Iron Man 2\n",
      "Iron Man 3\n",
      "Avengers: Age of Ultron\n",
      "The Avengers\n",
      "Captain America: Civil War\n",
      "Captain America: The Winter Soldier\n",
      "Ant-Man\n",
      "X-Men\n",
      "Made\n",
      "X-Men: Apocalypse\n",
      "X2\n",
      "The Incredible Hulk\n",
      "The Helix... Loaded\n",
      "X-Men: First Class\n"
     ]
    }
   ],
   "source": [
    "#Now we only lets say want to get the first 15 movies\n",
    "\"Movies For you: \"\n",
    "counter = 0\n",
    "while counter<15:\n",
    "    print(names[counter])\n",
    "    counter+=1"
   ]
  }
 ],
 "metadata": {
  "kernelspec": {
   "display_name": "base",
   "language": "python",
   "name": "python3"
  },
  "language_info": {
   "codemirror_mode": {
    "name": "ipython",
    "version": 3
   },
   "file_extension": ".py",
   "mimetype": "text/x-python",
   "name": "python",
   "nbconvert_exporter": "python",
   "pygments_lexer": "ipython3",
   "version": "3.8.5"
  }
 },
 "nbformat": 4,
 "nbformat_minor": 2
}
